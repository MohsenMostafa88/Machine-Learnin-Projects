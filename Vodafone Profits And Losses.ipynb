{
 "cells": [
  {
   "cell_type": "markdown",
   "id": "1ba9864a",
   "metadata": {},
   "source": [
    "## A simple Project For Ploynomial Regression"
   ]
  },
  {
   "cell_type": "markdown",
   "id": "fdabf202",
   "metadata": {},
   "source": [
    "### Import necessary Liberaries"
   ]
  },
  {
   "cell_type": "code",
   "execution_count": 87,
   "id": "a4412a1d",
   "metadata": {},
   "outputs": [],
   "source": [
    "import pandas as pd\n",
    "import pylab as pl\n",
    "import numpy as np\n",
    "import seaborn as sns\n",
    "import random as rnd\n",
    "import scipy.optimize as opt\n",
    "from sklearn import preprocessing\n",
    "from sklearn import datasets, linear_model\n",
    "from sklearn.linear_model import LinearRegression\n",
    "from sklearn.model_selection import train_test_split\n",
    "from sklearn.preprocessing import PolynomialFeatures\n",
    "from sklearn.feature_selection import RFE\n",
    "%matplotlib inline \n",
    "import matplotlib.pyplot as plt"
   ]
  },
  {
   "cell_type": "markdown",
   "id": "9657604e",
   "metadata": {},
   "source": [
    "### Extract the data from website"
   ]
  },
  {
   "cell_type": "code",
   "execution_count": 88,
   "id": "f87442bd",
   "metadata": {},
   "outputs": [
    {
     "data": {
      "text/html": [
       "<div>\n",
       "<style scoped>\n",
       "    .dataframe tbody tr th:only-of-type {\n",
       "        vertical-align: middle;\n",
       "    }\n",
       "\n",
       "    .dataframe tbody tr th {\n",
       "        vertical-align: top;\n",
       "    }\n",
       "\n",
       "    .dataframe thead th {\n",
       "        text-align: right;\n",
       "    }\n",
       "</style>\n",
       "<table border=\"1\" class=\"dataframe\">\n",
       "  <thead>\n",
       "    <tr style=\"text-align: right;\">\n",
       "      <th></th>\n",
       "      <th>Year ended 31 March</th>\n",
       "      <th>Turnover €m</th>\n",
       "      <th>Profit before tax €m</th>\n",
       "      <th>Profit for the year €m</th>\n",
       "      <th>Basic eps (pence)</th>\n",
       "    </tr>\n",
       "  </thead>\n",
       "  <tbody>\n",
       "    <tr>\n",
       "      <th>0</th>\n",
       "      <td>2020</td>\n",
       "      <td>44974</td>\n",
       "      <td>795</td>\n",
       "      <td>(455)</td>\n",
       "      <td>(16.25)</td>\n",
       "    </tr>\n",
       "    <tr>\n",
       "      <th>1</th>\n",
       "      <td>2019</td>\n",
       "      <td>43666</td>\n",
       "      <td>(2,613)</td>\n",
       "      <td>(7,644)</td>\n",
       "      <td>(3.13)</td>\n",
       "    </tr>\n",
       "    <tr>\n",
       "      <th>2</th>\n",
       "      <td>2018</td>\n",
       "      <td>46571</td>\n",
       "      <td>3878</td>\n",
       "      <td>2788</td>\n",
       "      <td>15.87</td>\n",
       "    </tr>\n",
       "    <tr>\n",
       "      <th>3</th>\n",
       "      <td>2017</td>\n",
       "      <td>47631</td>\n",
       "      <td>2792</td>\n",
       "      <td>(6,079)</td>\n",
       "      <td>(7.83)</td>\n",
       "    </tr>\n",
       "    <tr>\n",
       "      <th>4</th>\n",
       "      <td>2016</td>\n",
       "      <td>49810</td>\n",
       "      <td>(190)</td>\n",
       "      <td>(5,122)</td>\n",
       "      <td>(20.27)</td>\n",
       "    </tr>\n",
       "    <tr>\n",
       "      <th>5</th>\n",
       "      <td>2015</td>\n",
       "      <td>48385</td>\n",
       "      <td>1734</td>\n",
       "      <td>7477</td>\n",
       "      <td>28.72</td>\n",
       "    </tr>\n",
       "  </tbody>\n",
       "</table>\n",
       "</div>"
      ],
      "text/plain": [
       "   Year ended 31 March  Turnover €m Profit before tax €m  \\\n",
       "0                 2020        44974                  795   \n",
       "1                 2019        43666              (2,613)   \n",
       "2                 2018        46571                 3878   \n",
       "3                 2017        47631                 2792   \n",
       "4                 2016        49810                (190)   \n",
       "5                 2015        48385                 1734   \n",
       "\n",
       "  Profit for the year €m Basic eps (pence)  \n",
       "0                  (455)           (16.25)  \n",
       "1                (7,644)            (3.13)  \n",
       "2                   2788             15.87  \n",
       "3                (6,079)            (7.83)  \n",
       "4                (5,122)           (20.27)  \n",
       "5                   7477             28.72  "
      ]
     },
     "execution_count": 88,
     "metadata": {},
     "output_type": "execute_result"
    }
   ],
   "source": [
    "df = pd.read_html('https://en.wikipedia.org/wiki/Vodafone')\n",
    "df[7]"
   ]
  },
  {
   "cell_type": "markdown",
   "id": "4aad52bd",
   "metadata": {},
   "source": [
    "### Save the data to CSV file"
   ]
  },
  {
   "cell_type": "code",
   "execution_count": 77,
   "id": "a50e6fb7",
   "metadata": {},
   "outputs": [],
   "source": [
    "df[7].to_csv('Downloads/Voda.csv')"
   ]
  },
  {
   "cell_type": "code",
   "execution_count": 321,
   "id": "92ba0ae4",
   "metadata": {},
   "outputs": [
    {
     "data": {
      "text/html": [
       "<div>\n",
       "<style scoped>\n",
       "    .dataframe tbody tr th:only-of-type {\n",
       "        vertical-align: middle;\n",
       "    }\n",
       "\n",
       "    .dataframe tbody tr th {\n",
       "        vertical-align: top;\n",
       "    }\n",
       "\n",
       "    .dataframe thead th {\n",
       "        text-align: right;\n",
       "    }\n",
       "</style>\n",
       "<table border=\"1\" class=\"dataframe\">\n",
       "  <thead>\n",
       "    <tr style=\"text-align: right;\">\n",
       "      <th></th>\n",
       "      <th>Unnamed: 0</th>\n",
       "      <th>Year_ended_March</th>\n",
       "      <th>Turnover</th>\n",
       "      <th>Profit before tax</th>\n",
       "      <th>Profit for the year</th>\n",
       "      <th>Basic eps</th>\n",
       "    </tr>\n",
       "  </thead>\n",
       "  <tbody>\n",
       "    <tr>\n",
       "      <th>0</th>\n",
       "      <td>0</td>\n",
       "      <td>2020</td>\n",
       "      <td>44974</td>\n",
       "      <td>795</td>\n",
       "      <td>-455</td>\n",
       "      <td>-16.25</td>\n",
       "    </tr>\n",
       "    <tr>\n",
       "      <th>1</th>\n",
       "      <td>1</td>\n",
       "      <td>2019</td>\n",
       "      <td>43666</td>\n",
       "      <td>-2,613</td>\n",
       "      <td>-7,644</td>\n",
       "      <td>-3.13</td>\n",
       "    </tr>\n",
       "    <tr>\n",
       "      <th>2</th>\n",
       "      <td>2</td>\n",
       "      <td>2018</td>\n",
       "      <td>46571</td>\n",
       "      <td>3878</td>\n",
       "      <td>2788</td>\n",
       "      <td>15.87</td>\n",
       "    </tr>\n",
       "    <tr>\n",
       "      <th>3</th>\n",
       "      <td>3</td>\n",
       "      <td>2017</td>\n",
       "      <td>47631</td>\n",
       "      <td>2792</td>\n",
       "      <td>-6,079</td>\n",
       "      <td>-7.83</td>\n",
       "    </tr>\n",
       "    <tr>\n",
       "      <th>4</th>\n",
       "      <td>4</td>\n",
       "      <td>2016</td>\n",
       "      <td>49810</td>\n",
       "      <td>-190</td>\n",
       "      <td>-5,122</td>\n",
       "      <td>-20.27</td>\n",
       "    </tr>\n",
       "    <tr>\n",
       "      <th>5</th>\n",
       "      <td>5</td>\n",
       "      <td>2015</td>\n",
       "      <td>48385</td>\n",
       "      <td>1734</td>\n",
       "      <td>7477</td>\n",
       "      <td>28.72</td>\n",
       "    </tr>\n",
       "  </tbody>\n",
       "</table>\n",
       "</div>"
      ],
      "text/plain": [
       "   Unnamed: 0  Year_ended_March  Turnover Profit before tax   \\\n",
       "0           0              2020     44974                795   \n",
       "1           1              2019     43666             -2,613   \n",
       "2           2              2018     46571               3878   \n",
       "3           3              2017     47631               2792   \n",
       "4           4              2016     49810               -190   \n",
       "5           5              2015     48385               1734   \n",
       "\n",
       "  Profit for the year   Basic eps   \n",
       "0                 -455      -16.25  \n",
       "1               -7,644       -3.13  \n",
       "2                 2788       15.87  \n",
       "3               -6,079       -7.83  \n",
       "4               -5,122      -20.27  \n",
       "5                 7477       28.72  "
      ]
     },
     "execution_count": 321,
     "metadata": {},
     "output_type": "execute_result"
    }
   ],
   "source": [
    "voda_df = pd.read_csv('Downloads/Voda.csv')\n",
    "voda_df"
   ]
  },
  {
   "cell_type": "markdown",
   "id": "82780dce",
   "metadata": {},
   "source": [
    "### Describe the data to be able for extracting the real prediction"
   ]
  },
  {
   "cell_type": "code",
   "execution_count": 323,
   "id": "52d168ad",
   "metadata": {},
   "outputs": [
    {
     "data": {
      "text/html": [
       "<div>\n",
       "<style scoped>\n",
       "    .dataframe tbody tr th:only-of-type {\n",
       "        vertical-align: middle;\n",
       "    }\n",
       "\n",
       "    .dataframe tbody tr th {\n",
       "        vertical-align: top;\n",
       "    }\n",
       "\n",
       "    .dataframe thead th {\n",
       "        text-align: right;\n",
       "    }\n",
       "</style>\n",
       "<table border=\"1\" class=\"dataframe\">\n",
       "  <thead>\n",
       "    <tr style=\"text-align: right;\">\n",
       "      <th></th>\n",
       "      <th>Unnamed: 0</th>\n",
       "      <th>Year_ended_March</th>\n",
       "      <th>Turnover</th>\n",
       "      <th>Basic eps</th>\n",
       "    </tr>\n",
       "  </thead>\n",
       "  <tbody>\n",
       "    <tr>\n",
       "      <th>count</th>\n",
       "      <td>6.000000</td>\n",
       "      <td>6.000000</td>\n",
       "      <td>6.000000</td>\n",
       "      <td>6.000000</td>\n",
       "    </tr>\n",
       "    <tr>\n",
       "      <th>mean</th>\n",
       "      <td>2.500000</td>\n",
       "      <td>2017.500000</td>\n",
       "      <td>46839.500000</td>\n",
       "      <td>-0.481667</td>\n",
       "    </tr>\n",
       "    <tr>\n",
       "      <th>std</th>\n",
       "      <td>1.870829</td>\n",
       "      <td>1.870829</td>\n",
       "      <td>2256.643414</td>\n",
       "      <td>19.085830</td>\n",
       "    </tr>\n",
       "    <tr>\n",
       "      <th>min</th>\n",
       "      <td>0.000000</td>\n",
       "      <td>2015.000000</td>\n",
       "      <td>43666.000000</td>\n",
       "      <td>-20.270000</td>\n",
       "    </tr>\n",
       "    <tr>\n",
       "      <th>25%</th>\n",
       "      <td>1.250000</td>\n",
       "      <td>2016.250000</td>\n",
       "      <td>45373.250000</td>\n",
       "      <td>-14.145000</td>\n",
       "    </tr>\n",
       "    <tr>\n",
       "      <th>50%</th>\n",
       "      <td>2.500000</td>\n",
       "      <td>2017.500000</td>\n",
       "      <td>47101.000000</td>\n",
       "      <td>-5.480000</td>\n",
       "    </tr>\n",
       "    <tr>\n",
       "      <th>75%</th>\n",
       "      <td>3.750000</td>\n",
       "      <td>2018.750000</td>\n",
       "      <td>48196.500000</td>\n",
       "      <td>11.120000</td>\n",
       "    </tr>\n",
       "    <tr>\n",
       "      <th>max</th>\n",
       "      <td>5.000000</td>\n",
       "      <td>2020.000000</td>\n",
       "      <td>49810.000000</td>\n",
       "      <td>28.720000</td>\n",
       "    </tr>\n",
       "  </tbody>\n",
       "</table>\n",
       "</div>"
      ],
      "text/plain": [
       "       Unnamed: 0  Year_ended_March      Turnover  Basic eps \n",
       "count    6.000000          6.000000      6.000000    6.000000\n",
       "mean     2.500000       2017.500000  46839.500000   -0.481667\n",
       "std      1.870829          1.870829   2256.643414   19.085830\n",
       "min      0.000000       2015.000000  43666.000000  -20.270000\n",
       "25%      1.250000       2016.250000  45373.250000  -14.145000\n",
       "50%      2.500000       2017.500000  47101.000000   -5.480000\n",
       "75%      3.750000       2018.750000  48196.500000   11.120000\n",
       "max      5.000000       2020.000000  49810.000000   28.720000"
      ]
     },
     "execution_count": 323,
     "metadata": {},
     "output_type": "execute_result"
    }
   ],
   "source": [
    "voda_df.describe()"
   ]
  },
  {
   "cell_type": "code",
   "execution_count": null,
   "id": "66127bda",
   "metadata": {},
   "outputs": [],
   "source": []
  },
  {
   "cell_type": "code",
   "execution_count": 324,
   "id": "6ad86c1b",
   "metadata": {},
   "outputs": [
    {
     "data": {
      "image/png": "[encoded data removed]",
      "text/plain": [
       "<Figure size 432x288 with 2 Axes>"
      ]
     },
     "metadata": {
      "needs_background": "light"
     },
     "output_type": "display_data"
    }
   ],
   "source": [
    "viz = voda_df[['Year_ended_March','Turnover']]\n",
    "viz.hist()\n",
    "plt.show()"
   ]
  },
  {
   "cell_type": "code",
   "execution_count": 325,
   "id": "e7828cc1",
   "metadata": {},
   "outputs": [
    {
     "data": {
      "image/png": "[encoded data removed]",
      "text/plain": [
       "<Figure size 432x288 with 1 Axes>"
      ]
     },
     "metadata": {
      "needs_background": "light"
     },
     "output_type": "display_data"
    }
   ],
   "source": [
    "plt.scatter(voda_df.Year_ended_March, voda_df.Turnover,  color='blue')\n",
    "plt.xlabel(\"Turnover\")\n",
    "plt.ylabel(\"Year_ended_March\")\n",
    "plt.show()"
   ]
  },
  {
   "cell_type": "markdown",
   "id": "bc00aa32",
   "metadata": {},
   "source": [
    "### Evaluate the model"
   ]
  },
  {
   "cell_type": "code",
   "execution_count": 326,
   "id": "b9dfc277",
   "metadata": {},
   "outputs": [],
   "source": [
    "x = voda_df['Turnover'].values\n",
    "y = voda_df['Year_ended_March'].values"
   ]
  },
  {
   "cell_type": "code",
   "execution_count": 327,
   "id": "4cf2ff95",
   "metadata": {},
   "outputs": [],
   "source": [
    "x = x.reshape(-1, 1)"
   ]
  },
  {
   "cell_type": "code",
   "execution_count": 328,
   "id": "5ac7f28a",
   "metadata": {},
   "outputs": [],
   "source": [
    "poly = PolynomialFeatures(degree=10)"
   ]
  },
  {
   "cell_type": "markdown",
   "id": "b1901657",
   "metadata": {},
   "source": [
    "### Now we fit the model for Evaluation"
   ]
  },
  {
   "cell_type": "code",
   "execution_count": 329,
   "id": "ed3083fc",
   "metadata": {},
   "outputs": [],
   "source": [
    "x_poly = poly.fit_transform(x)"
   ]
  },
  {
   "cell_type": "code",
   "execution_count": 330,
   "id": "c2d5f630",
   "metadata": {},
   "outputs": [
    {
     "data": {
      "text/plain": [
       "PolynomialFeatures(degree=10)"
      ]
     },
     "execution_count": 330,
     "metadata": {},
     "output_type": "execute_result"
    }
   ],
   "source": [
    "poly.fit(x_poly, y)"
   ]
  },
  {
   "cell_type": "code",
   "execution_count": 331,
   "id": "e806f85c",
   "metadata": {},
   "outputs": [],
   "source": [
    "linreg = LinearRegression()"
   ]
  },
  {
   "cell_type": "code",
   "execution_count": 332,
   "id": "9f1abe88",
   "metadata": {},
   "outputs": [
    {
     "data": {
      "text/plain": [
       "LinearRegression()"
      ]
     },
     "execution_count": 332,
     "metadata": {},
     "output_type": "execute_result"
    }
   ],
   "source": [
    "linreg.fit(x_poly, y)"
   ]
  },
  {
   "cell_type": "code",
   "execution_count": 333,
   "id": "c4481c24",
   "metadata": {},
   "outputs": [],
   "source": [
    "y_pred = linreg.predict(x_poly)"
   ]
  },
  {
   "cell_type": "code",
   "execution_count": 334,
   "id": "9b93581e",
   "metadata": {},
   "outputs": [
    {
     "data": {
      "text/plain": [
       "[<matplotlib.lines.Line2D at 0x20897be4b50>]"
      ]
     },
     "execution_count": 334,
     "metadata": {},
     "output_type": "execute_result"
    },
    {
     "data": {
      "image/png": "[encoded data removed]",
      "text/plain": [
       "<Figure size 432x288 with 1 Axes>"
      ]
     },
     "metadata": {
      "needs_background": "light"
     },
     "output_type": "display_data"
    }
   ],
   "source": [
    "plt.scatter(x,y, color='blue')\n",
    "plt.plot(x, y_pred, color='red')"
   ]
  },
  {
   "cell_type": "code",
   "execution_count": 335,
   "id": "53550bf8",
   "metadata": {},
   "outputs": [],
   "source": [
    "df = pd.DataFrame(np.random.randn(6, 2))\n",
    "msk = np.random.rand(len(df)) < 0.8\n",
    "train = voda_df[msk]\n",
    "test = voda_df[~msk]"
   ]
  },
  {
   "cell_type": "markdown",
   "id": "bbf4ebde",
   "metadata": {},
   "source": [
    "### Make a prediction by using sklearn"
   ]
  },
  {
   "cell_type": "code",
   "execution_count": 336,
   "id": "84d8bb99",
   "metadata": {},
   "outputs": [
    {
     "name": "stdout",
     "output_type": "stream",
     "text": [
      "Coefficients:  [[-0.00071767]]\n",
      "Intercept:  [2051.11538623]\n"
     ]
    }
   ],
   "source": [
    "from sklearn import linear_model\n",
    "regr = linear_model.LinearRegression()\n",
    "train_x = np.asanyarray(train[['Turnover']])\n",
    "train_y = np.asanyarray(train[['Year_ended_March']]) \n",
    "regr.fit(train_x, train_y)\n",
    "# The coefficients\n",
    "print ('Coefficients: ', regr.coef_)\n",
    "print ('Intercept: ',regr.intercept_)"
   ]
  },
  {
   "cell_type": "code",
   "execution_count": 316,
   "id": "5cb5fc56",
   "metadata": {},
   "outputs": [
    {
     "data": {
      "text/plain": [
       "Text(0, 0.5, 'Year_ended_March')"
      ]
     },
     "execution_count": 316,
     "metadata": {},
     "output_type": "execute_result"
    },
    {
     "data": {
      "image/png": "[encoded data removed]",
      "text/plain": [
       "<Figure size 432x288 with 1 Axes>"
      ]
     },
     "metadata": {
      "needs_background": "light"
     },
     "output_type": "display_data"
    }
   ],
   "source": [
    "plt.scatter(train.Turnover, train.Year_ended_March,  color='blue')\n",
    "plt.plot(train_x, regr.coef_[0][0]*train_x + regr.intercept_[0], '-r')\n",
    "plt.xlabel(\"Turnover\")\n",
    "plt.ylabel(\"Year_ended_March\")"
   ]
  },
  {
   "cell_type": "code",
   "execution_count": null,
   "id": "af70fe53",
   "metadata": {},
   "outputs": [],
   "source": []
  },
  {
   "cell_type": "code",
   "execution_count": null,
   "id": "9490d315",
   "metadata": {},
   "outputs": [],
   "source": []
  }
 ],
 "metadata": {
  "kernelspec": {
   "display_name": "Python 3 (ipykernel)",
   "language": "python",
   "name": "python3"
  },
  "language_info": {
   "codemirror_mode": {
    "name": "ipython",
    "version": 3
   },
   "file_extension": ".py",
   "mimetype": "text/x-python",
   "name": "python",
   "nbconvert_exporter": "python",
   "pygments_lexer": "ipython3",
   "version": "3.9.7"
  }
 },
 "nbformat": 4,
 "nbformat_minor": 5
}
